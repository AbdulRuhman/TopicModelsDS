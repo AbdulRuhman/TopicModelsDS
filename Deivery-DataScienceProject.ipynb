{
 "cells": [
  {
   "cell_type": "code",
   "execution_count": 45,
   "metadata": {
    "collapsed": false
   },
   "outputs": [
    {
     "name": "stdout",
     "output_type": "stream",
     "text": [
      "x is :\n",
      "[0.03, 0.015, 0.014, 0.014, 0.01]\n",
      "y is :\n",
      "['\"aladdin\" ', '\"lamp\" ', '\"s\" ', '\"geni\" ', '\"palac\"']\n"
     ]
    }
   ],
   "source": [
    "f = open(\"/Users/mac/Desktop/adv_alad.txt\",\"r\")\n",
    "inString = f.read()\n",
    "from nltk.tokenize import RegexpTokenizer\n",
    "from stop_words import get_stop_words\n",
    "from nltk.stem.porter import PorterStemmer\n",
    "from gensim import corpora, models\n",
    "import gensim\n",
    "\n",
    "tokenizer = RegexpTokenizer(r'\\w+')\n",
    "\n",
    "# create English stop words list\n",
    "en_stop = get_stop_words('en')\n",
    "\n",
    "# Create p_stemmer of class PorterStemmer\n",
    "p_stemmer = PorterStemmer()\n",
    "    \n",
    "# create sample documents\n",
    "#doc_a = \"Adolf Hitler German adlf htl About this sound listen 20 April 1889 30 April 1945 was a German politician who was the leader of the Nazi Party Nationalsozialistische Deutsche Arbeiterpartei NSDAP Chancellor of Germany from 1933 to 1945 and Fhrer Leader of Nazi Germany from 1934 to 1945a As dictator Hitler initiated World War II in Europe with the invasion of Poland in September 1939 and was central to the Holocaust Hitler was born in Austriathen part of AustriaHungaryand was raised near Linz He moved to Germany in 1913 and was decorated during his service in the German Army in World War I In 1919 he joined the German Workers Party DAP the precursor of the NSDAP and was appointed leader of the NSDAP in 1921 In 1923 he attempted to seize power in a failed coup in Munich and was imprisoned While in jail he dictated the first volume of his autobiography and political manifesto Mein Kampf My Struggle Released in 1924 Hitler gained popular support by attacking the Treaty of Versailles and promoting PanGermanism antisemitism and anticommunism with charismatic oratory and Nazi propaganda He frequently denounced international capitalism and communism as being part of a Jewish conspiracy By 1933 the Nazi Party was the largest elected party in the German Reichstag but did not have a majority and no party was able to form a majority parliamentary coalition in support of a candidate for chancellor This led to former chancellor Franz von Papen and other conservative leaders persuading President Paul von Hindenburg to appoint Hitler as Chancellor on 30 January 1933 Shortly after the Reichstag passed the Enabling Act of 1933 which began the process of transforming the Weimar Republic into Nazi Germany a oneparty dictatorship based on the totalitarian and autocratic ideology of National Socialism Hitler aimed to eliminate Jews from Germany and establish a New Order to counter what he saw as the injustice of the postWorld War I international order dominated by Britain and France His first six years in power resulted in rapid economic recovery from the Great Depression the abrogation of restrictions imposed on Germany after World War I and the annexation of territories that were home to millions of ethnic Germans which gave him significant popular support Hitler sought Lebensraum living space for the German people in Eastern Europe and his aggressive foreign policy is considered to be the primary cause of the outbreak of World War II in Europe He directed largescale rearmament and on 1 September 1939 invaded Poland that resulted in Britain and France declaring war on Germany In June 1941 Hitler ordered an invasion of the Soviet Union By the end of 1941 German forces and the European Axis powers occupied most of Europe and North Africa In December 1941 he formally declared war on the United States bringing them directly into the conflict Failure to defeat the Soviets and the entry of the United States into the war forced Germany onto the defensive and it suffered a series of escalating defeats In the final days of the war during the Battle of Berlin in 1945 he married his longtime lover Eva Braun Less than two days later on 30 April 1945 the two killed themselves to avoid capture by the Soviet Red Army and their corpses were burned\"\n",
    "#doc_a= \"AbdulRuhman N AbuMousa Tulkarm Palestine Mobile 970597410077 Emailadmd1095gmailcom Sept2013 now Palestine Technical University Palestine BSc Computer Systems Engineering Jul2017 Now Employer Location CYSTACK Ramallah Palestine Job Title Duties and responsibilities April2017 Sept2017 Employer Location Iniris Tulkarm Palestine Job Title Duties and responsibilities Jan2017 April2017 Employer Location Idex center Tulkarm Palestine Job Title Duties and responsibilities March2015 Dec2016 Employer Location self employed Tulkarm Palestine Job Title Duties and responsibilities Project description Vircy is a Virtual Reality Cycling game based on Android Platform a startup idea that Ive worked on June 2017 July2016 Center CYSTACK Training Title Web Applications Penetration Testing June 2016 Aug2016 Center CYSTACK Training Title University internship program Conetnts Malware Analysis 28 July2016 2 August 2016 Center Niqat Acedemy Autodesk Authorized Training Center Training Title 2D3D Design Basics Level 1 of 2 Conetnts Autodesk Fusion360 Dec2013Jan2014 Center AlManahel Tulkarm Palestine Training Title Windows Server Administration Conetnts Establish a network Server Configuration and backup Group Policies and Permissions Dec2013Jan2014 Center Palestine Technical Univeristy Tulkarm Palestine Training Title Personal Strategic Planning Conetnts Determine chances dangers goals mission and vision how to make life balanced June2010August2010 Center Tulkarm Municipality Computer Center Tulkarm Palestine Training Title Network Fundamentals Conetnts Network basics deal with network components network troubleshooting June2009August2009 Center Tulkarm Municipality Computer Center Tulkarm Palestine Training Title Multimedia Production Conetnts Photoshop Klek Arabic Calligraphy Sounds Editing Multimedia Builder Swish Max June2009August2009 Center Tulkarm Municipality Computer Center Tulkarm Palestine Training Title Computer Maintenance Conetnts softwarehardware troubleshooting Configuring June2009August2009 Center Tulkarm Municipality Computer Center Tulkarm Palestine Training Title Adobe Photoshop Conetnts Graphic design August2015Dec2016 Employer Location Library Club Palestine Job Title Duties and responsibilities Volunteer August2015October2015 Employer Location IEEE Palestine Job Title Duties and responsibilities Teaching Courses March2015Jan2016 Employer Location IEEE PTU Student Branch Tulkarm Job Title Duties and responsibilities Teaching Courses March2014March2015 Employer Location Microsoft Palestine Technical University Tulkarm Palestine Job Title Duties and responsibilities March2014 May2014 Employer Location Innovation Education Tulkarm Technology Center Palestine Palestine Technical University Job Title Duties and responsibilities Teaching Courses June2011 Jan2014 Employer Location Thaqafi Tulkarm Club Tulkarm Palestine Job Title Duties and responsibilities Teaching Courses June2010 Aug2010 Employer Location Tulkarm Municipality Tulkarm Computer Center Palestine Kid summer camp Job Title Duties and responsibilities Teaching Courses Jan 2017 title Jawwal 1st hackathon Place Ramallah Palestine Oct 2016 title ACM PCPC Place AnNajah University Nablus Palestine Sept 2016 title Zangah Game Jam Place Ramallah Palestine 29 Jan 201631 Jan2016 title Global Game Jam 2016 Place Leaders Ramallah Palestine 24 Oct2015 title IEEEExtreme V90 Place Tulkarm Municipality Trainings Center Palestine 4 Aug 2015 7 Aug 2015 title Middle East Student Branches Congress IEEE Place Amman Jordan 6 Nov 2014 title ACM PCPC Place Arab American University Palestine 18 Oct 2014 title IEEEXtremeV80 Place Palestine Technical University 29 Sep 2014 title PTUK Smart Days Leaders Int Entrepreneurship Training Place Palestine Technical University 9 Jan 2014 title IEEE Programmer V10 Place Palestine Technical University Programming Languages Java C PHP Programming Experience Android Development Unity3D Computer skills Operating Systems WindowsLinux Office Applications Word Excel Power Point Multimedia Production Photoshop inkscape Adobe Premier Adobe Flash Autodesk fusion 360 Adobe After Effects Teamwork Dynamic flexible selfmotivated and the able to work an important role as a team member and under pressure Communication Open minded able to communicate effectively good body language skills and Oral skills Problem solving Organized and able to solve problems creatively willing to learn new skills Languages English good Arabic Native Language Interests sports reading authoring listening to music\"\n",
    "doc_a=inString\n",
    "# compile sample documents into a list\n",
    "doc_set = [doc_a]\n",
    "\n",
    "# list for tokenized documents in loop\n",
    "texts = []\n",
    "\n",
    "# loop through document list\n",
    "for i in doc_set:\n",
    "    \n",
    "    # clean and tokenize document string\n",
    "    raw = i.lower()\n",
    "    tokens = tokenizer.tokenize(raw)\n",
    "\n",
    "    # remove stop words from tokens\n",
    "    stopped_tokens = [i for i in tokens if not i in en_stop]\n",
    "    \n",
    "    # stem tokens\n",
    "    stemmed_tokens = [p_stemmer.stem(i) for i in stopped_tokens]\n",
    "    \n",
    "    # add tokens to list\n",
    "    texts.append(stemmed_tokens)\n",
    "\n",
    "# turn our tokenized documents into a id <-> term dictionary\n",
    "dictionary = corpora.Dictionary(texts)\n",
    "    \n",
    "# convert tokenized documents into a document-term matrix\n",
    "corpus = [dictionary.doc2bow(text) for text in texts]\n",
    "\n",
    "# generate LDA model\n",
    "ldamodel = gensim.models.ldamodel.LdaModel(corpus, num_topics=1, id2word = dictionary, passes=20)\n",
    "\n",
    "\n",
    "# In[3]:\n",
    "\n",
    "ldamodel.print_topics(num_topics=1, num_words=10)\n",
    "\n",
    "\n",
    "# In[4]:\n",
    "\n",
    "p=ldamodel.print_topics(num_topics=1, num_words=5)[0]\n",
    "root= p[1].split(\"+\")\n",
    "x=[]\n",
    "y=[]\n",
    "for sub in root:\n",
    "    temp = sub.split(\"*\")\n",
    "    x.append(float(temp[0]))\n",
    "    y.append(temp[1])\n",
    "print(\"x is :\")\n",
    "print(x)\n",
    "print(\"y is :\")\n",
    "print(y)\n",
    "\n",
    "\n",
    "# In[5]:\n",
    "\n",
    "\n"
   ]
  },
  {
   "cell_type": "code",
   "execution_count": 46,
   "metadata": {
    "collapsed": false
   },
   "outputs": [],
   "source": [
    "\n",
    "%matplotlib inline\n",
    "import matplotlib\n",
    "import numpy as np\n",
    "import matplotlib.pyplot as plt\n",
    "index = x\n",
    "values = y\n",
    "y_pos = np.arange(len(values))\n",
    "\n"
   ]
  },
  {
   "cell_type": "code",
   "execution_count": 47,
   "metadata": {
    "collapsed": false
   },
   "outputs": [
    {
     "data": {
      "image/png": "[encoded data removed]",
      "text/plain": [
       "<matplotlib.figure.Figure at 0x11abc83c8>"
      ]
     },
     "metadata": {},
     "output_type": "display_data"
    }
   ],
   "source": [
    "plt.bar(y_pos, index, align='center', alpha=0.5)\n",
    "plt.title('Story Main Topics')\n",
    "plt.ylabel('frequency')\n",
    "plt.xticks(y_pos, values)\n",
    "plt.show()"
   ]
  },
  {
   "cell_type": "code",
   "execution_count": null,
   "metadata": {
    "collapsed": false
   },
   "outputs": [],
   "source": []
  },
  {
   "cell_type": "code",
   "execution_count": null,
   "metadata": {
    "collapsed": false
   },
   "outputs": [],
   "source": []
  },
  {
   "cell_type": "code",
   "execution_count": null,
   "metadata": {
    "collapsed": false
   },
   "outputs": [],
   "source": []
  },
  {
   "cell_type": "code",
   "execution_count": null,
   "metadata": {
    "collapsed": true
   },
   "outputs": [],
   "source": []
  },
  {
   "cell_type": "code",
   "execution_count": null,
   "metadata": {
    "collapsed": true
   },
   "outputs": [],
   "source": []
  }
 ],
 "metadata": {
  "kernelspec": {
   "display_name": "Python [Root]",
   "language": "python",
   "name": "Python [Root]"
  },
  "language_info": {
   "codemirror_mode": {
    "name": "ipython",
    "version": 3
   },
   "file_extension": ".py",
   "mimetype": "text/x-python",
   "name": "python",
   "nbconvert_exporter": "python",
   "pygments_lexer": "ipython3",
   "version": "3.5.2"
  }
 },
 "nbformat": 4,
 "nbformat_minor": 0
}
